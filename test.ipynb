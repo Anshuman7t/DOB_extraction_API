{
 "cells": [
  {
   "cell_type": "code",
   "execution_count": null,
   "metadata": {},
   "outputs": [],
   "source": [
    "import requests\n",
    "\n",
    "requests.post()"
   ]
  },
  {
   "cell_type": "code",
   "execution_count": 3,
   "metadata": {},
   "outputs": [
    {
     "name": "stdout",
     "output_type": "stream",
     "text": [
      "{'extracted_text': 'Date of Birth: 05/06/2001'}\n"
     ]
    }
   ],
   "source": [
    "import base64\n",
    "import requests\n",
    "\n",
    "# Path to the image file\n",
    "image_path = r\"C:\\Users\\anshu\\OneDrive\\Desktop\\Office\\DOB extraction API\\temp_image.png\"\n",
    "\n",
    "# Read the image file and encode it to base64\n",
    "with open(image_path, 'rb') as image_file:\n",
    "    encoded_string = base64.b64encode(image_file.read()).decode('utf-8')\n",
    "\n",
    "# Define the URL of the Flask backend\n",
    "url = 'http://127.0.0.1:5000/extract_dob'\n",
    "\n",
    "# Create the payload with the base64-encoded image\n",
    "payload = {\n",
    "    'image': encoded_string\n",
    "}\n",
    "\n",
    "# Send the POST request to the backend\n",
    "response = requests.post(url, json=payload)\n",
    "\n",
    "# Print the response from the backend\n",
    "print(response.json())\n"
   ]
  },
  {
   "cell_type": "code",
   "execution_count": null,
   "metadata": {},
   "outputs": [],
   "source": []
  }
 ],
 "metadata": {
  "kernelspec": {
   "display_name": "venv",
   "language": "python",
   "name": "python3"
  },
  "language_info": {
   "codemirror_mode": {
    "name": "ipython",
    "version": 3
   },
   "file_extension": ".py",
   "mimetype": "text/x-python",
   "name": "python",
   "nbconvert_exporter": "python",
   "pygments_lexer": "ipython3",
   "version": "3.12.2"
  },
  "orig_nbformat": 4
 },
 "nbformat": 4,
 "nbformat_minor": 2
}
