{
 "cells": [
  {
   "cell_type": "code",
   "execution_count": 35,
   "metadata": {},
   "outputs": [
    {
     "name": "stdout",
     "output_type": "stream",
     "text": [
      "21/11/94\n"
     ]
    }
   ],
   "source": [
    "import base64\n",
    "import requests\n",
    "\n",
    "# Path to the image file\n",
    "image_path = r\"C:\\Users\\anshu\\Downloads\\image_2024_07_16T07_28_30_086Z.png\"\n",
    "\n",
    "# Read the image file and encode it to base64\n",
    "with open(image_path, 'rb') as image_file:\n",
    "    encoded_string = base64.b64encode(image_file.read()).decode('utf-8')\n",
    "\n",
    "# Define the URL of the Flask backend\n",
    "url = 'https://dob-extraction-api.vercel.app/extract_dob'\n",
    "\n",
    "# Create the payload with the base64-encoded image\n",
    "payload = {\n",
    "    'image': encoded_string\n",
    "}\n",
    "\n",
    "# Send the POST request to the backend\n",
    "response = requests.post(url, json=payload)  # Note the use of `json=payload`\n",
    "\n",
    "date = response.json()['extracted_text']['response']\n",
    "print(date)\n"
   ]
  },
  {
   "cell_type": "code",
   "execution_count": 2,
   "metadata": {},
   "outputs": [
    {
     "name": "stdout",
     "output_type": "stream",
     "text": [
      "21/11/94\n"
     ]
    }
   ],
   "source": [
    "import base64\n",
    "import requests\n",
    "from pathlib import Path\n",
    "\n",
    "# Path to the file (either an image or a PDF)\n",
    "file_path = Path(r\"C:\\Users\\anshu\\Downloads\\image_2024_07_16T07_28_30_086Z.png\")\n",
    "# Define the URL of the Flask backend\n",
    "url = 'https://dob-extraction-api.vercel.app/extract_dob'\n",
    "\n",
    "# Function to send an image as base64\n",
    "def send_image(file_path):\n",
    "    with open(file_path, 'rb') as image_file:\n",
    "        encoded_string = base64.b64encode(image_file.read()).decode('utf-8')\n",
    "    \n",
    "    payload = {\n",
    "        'image': encoded_string\n",
    "    }\n",
    "    \n",
    "    response = requests.post(url, json=payload)\n",
    "    return response\n",
    "\n",
    "# Function to send a PDF file\n",
    "def send_pdf(file_path):\n",
    "    with open(file_path, 'rb') as pdf_file:\n",
    "        files = {'file': (file_path.name, pdf_file, 'application/pdf')}\n",
    "        response = requests.post(url, files=files)\n",
    "    return response\n",
    "\n",
    "# Determine the file type and send the appropriate request\n",
    "if file_path.suffix.lower() in ['.png', '.jpg', '.jpeg']:\n",
    "    response = send_image(file_path)\n",
    "elif file_path.suffix.lower() == '.pdf':\n",
    "    response = send_pdf(file_path)\n",
    "else:\n",
    "    print(\"Unsupported file type\")\n",
    "\n",
    "# Print the response\n",
    "if response.ok:\n",
    "    print(response.json())\n",
    "else:\n",
    "    print(\"Error:\", response.status_code, response.text)\n"
   ]
  },
  {
   "cell_type": "code",
   "execution_count": 10,
   "metadata": {},
   "outputs": [
    {
     "ename": "TypeError",
     "evalue": "sequence item 0: expected str instance, dict found",
     "output_type": "error",
     "traceback": [
      "\u001b[1;31m---------------------------------------------------------------------------\u001b[0m",
      "\u001b[1;31mTypeError\u001b[0m                                 Traceback (most recent call last)",
      "Cell \u001b[1;32mIn[10], line 43\u001b[0m\n\u001b[0;32m     40\u001b[0m response_data \u001b[39m=\u001b[39m response\u001b[39m.\u001b[39mjson()\n\u001b[0;32m     41\u001b[0m \u001b[39mif\u001b[39;00m \u001b[39m'\u001b[39m\u001b[39mextracted_texts\u001b[39m\u001b[39m'\u001b[39m \u001b[39min\u001b[39;00m response_data:\n\u001b[0;32m     42\u001b[0m     \u001b[39m# Join all the dates from the PDF pages\u001b[39;00m\n\u001b[1;32m---> 43\u001b[0m     date \u001b[39m=\u001b[39m \u001b[39m\"\u001b[39;49m\u001b[39m \u001b[39;49m\u001b[39m\"\u001b[39;49m\u001b[39m.\u001b[39;49mjoin(response_data[\u001b[39m'\u001b[39;49m\u001b[39mextracted_texts\u001b[39;49m\u001b[39m'\u001b[39;49m])\n\u001b[0;32m     44\u001b[0m \u001b[39melif\u001b[39;00m \u001b[39m'\u001b[39m\u001b[39mextracted_text\u001b[39m\u001b[39m'\u001b[39m \u001b[39min\u001b[39;00m response_data:\n\u001b[0;32m     45\u001b[0m     date \u001b[39m=\u001b[39m response_data[\u001b[39m'\u001b[39m\u001b[39mextracted_text\u001b[39m\u001b[39m'\u001b[39m]\n",
      "\u001b[1;31mTypeError\u001b[0m: sequence item 0: expected str instance, dict found"
     ]
    }
   ],
   "source": [
    "# import base64\n",
    "# import requests\n",
    "# from pathlib import Path\n",
    "\n",
    "# # Path to the file (either an image or a PDF)\n",
    "# file_path = Path(r\"C:\\Users\\anshu\\Downloads\\ApplicationForm.pdf\")\n",
    "\n",
    "# # Define the URL of the Flask backend\n",
    "# url = 'https://dob-extraction-api.vercel.app/extract_dob'\n",
    "\n",
    "# # Function to send an image as base64\n",
    "# def send_image(file_path):\n",
    "#     with open(file_path, 'rb') as image_file:\n",
    "#         encoded_string = base64.b64encode(image_file.read()).decode('utf-8')\n",
    "    \n",
    "#     payload = {\n",
    "#         'image': encoded_string\n",
    "#     }\n",
    "    \n",
    "#     response = requests.post(url, json=payload)\n",
    "#     return response\n",
    "\n",
    "# # Function to send a PDF file\n",
    "# def send_pdf(file_path):\n",
    "#     with open(file_path, 'rb') as pdf_file:\n",
    "#         files = {'file': (file_path.name, pdf_file, 'application/pdf')}\n",
    "#         response = requests.post(url, files=files)\n",
    "#     return response\n",
    "\n",
    "# # Determine the file type and send the appropriate request\n",
    "# if file_path.suffix.lower() in ['.png', '.jpg', '.jpeg']:\n",
    "#     response = send_image(file_path)\n",
    "# elif file_path.suffix.lower() == '.pdf':\n",
    "#     response = send_pdf(file_path)\n",
    "# else:\n",
    "#     print(\"Unsupported file type\")\n",
    "\n",
    "# # Print the response\n",
    "# if response.ok:\n",
    "#     response_data = response.json()\n",
    "#     if 'extracted_texts' in response_data:\n",
    "#         # Join all the dates from the PDF pages\n",
    "#         date = \" \".join(response_data['extracted_texts'])\n",
    "#     elif 'extracted_text' in response_data:\n",
    "#         date = response_data['extracted_text']\n",
    "#     else:\n",
    "#         date = \"No date found\"\n",
    "    \n",
    "#     print(date)\n",
    "# else:\n",
    "#     print(\"Error:\", response.status_code, response.text)\n"
   ]
  },
  {
   "cell_type": "code",
   "execution_count": null,
   "metadata": {},
   "outputs": [],
   "source": []
  }
 ],
 "metadata": {
  "kernelspec": {
   "display_name": "venv",
   "language": "python",
   "name": "python3"
  },
  "language_info": {
   "codemirror_mode": {
    "name": "ipython",
    "version": 3
   },
   "file_extension": ".py",
   "mimetype": "text/x-python",
   "name": "python",
   "nbconvert_exporter": "python",
   "pygments_lexer": "ipython3",
   "version": "3.12.2"
  },
  "orig_nbformat": 4
 },
 "nbformat": 4,
 "nbformat_minor": 2
}
